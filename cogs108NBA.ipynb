{
 "cells": [
  {
   "cell_type": "markdown",
   "metadata": {
    "collapsed": false
   },
   "source": [
    "# Introduction and Background"
   ]
  },
  {
   "cell_type": "markdown",
   "metadata": {
    "collapsed": false
   },
   "source": [
    "Through this analysis of NBA player’s statistics, we hope to answer to following questions: Can we accurately predict how many seasons it takes for an NBA rookie shooting guard to reach his prime? Will he breakout? Can we predict how long their career will last in the league? We believe that drawing from the stats of points (PTS), rebounds (REB), assists (AST), steals (STL), blocks (BLK), field goals attempted (FGA), field goals made (FGM), free throws attempted (FTA), free throws made (FTM), turnovers (TO), and minutes played, we will be able to create a performance rating that will lead us to conclude that rookies will take 4-6 years to breakout and reach their prime. We will also take the team that they are drafted to into account. \n",
    " \n",
    "This question is of interest because it will help us better speculate what players to keep an eye on, and whether NBA rookie statistics can be extrapolated to analyze when a rookie will breakout. Personal background includes our experience as fans of the sport and our support for the NBA. We have watched over five seasons of basketball, and in doing so have seen players mature from their rookie seasons to their primes. Additionally, we have absorbed knowledge from analysts and other sports media that make us believe that we can make an accurate prediction on how long it will take a rookie to reach his prime after 4-6 years of being in the league. \n"
   ]
  },
  {
   "cell_type": "markdown",
   "metadata": {
    "collapsed": false
   },
   "source": [
    "# Data Description"
   ]
  },
  {
   "cell_type": "markdown",
   "metadata": {
    "collapsed": false
   },
   "source": [
    "We will be drawing our data from a csv file from data.world.\n",
    "\n",
    "NBAPlayerPPG.xlsx - raw set with all per game stats for every player from 1991 to 2016 season. This dataset was taken off of the official nba site and added to dataworld.\n",
    "\n",
    "\n",
    "\n",
    "Below are brief descriptions as to what statistics we chose to analyze and why.\n",
    "\n",
    "\n",
    "\n",
    "Age: We want to study the age at which the player will break out.\n",
    "\n",
    "PTS: One of the three main duties of an NBA guard. Points win games.\n",
    "\n",
    "AST: One of the three main duties of an NBA guard. A guard’s role is to distribute the ball to his teammates.\n",
    "\n",
    "STL: One of the three main duties of an NBA guard. Steals indicate exemplary defensive skills.\n",
    "\n",
    "TO: Turnovers are a detriment to the team. More turnovers means less ball control, a necessity for a guard.\n",
    "\n",
    "Minutes Played: We want to analyze players who are on the court. A player can’t break out if he’s on the bench all the time.\n",
    "\n",
    "FGA and FGM: A guard needs to shooting the ball!\n",
    "\n"
   ]
  },
  {
   "cell_type": "markdown",
   "metadata": {
    "collapsed": false
   },
   "source": [
    "# Data Cleaning & Pre-Processing"
   ]
  },
  {
   "cell_type": "markdown",
   "metadata": {
    "collapsed": false
   },
   "source": [
    "We are only utilizing one dataset, but there are many irrelevant columns that we do not need to calculate a new efficiency rating. Our data appears to  be clean, but we must make sure to drop all NaN values and clean duplicates from the dataset. Duplicates will be deleted if two players appear in the same year."
   ]
  },
  {
   "cell_type": "code",
   "execution_count": 1,
   "metadata": {
    "collapsed": false
   },
   "outputs": [
   ],
   "source": [
    "#imports\n",
    "%matplotlib inline\n",
    "\n",
    "import pandas as pd\n",
    "import numpy as np\n",
    "import matplotlib.pyplot as plt\n",
    "from scipy.interpolate import *\n",
    "from pylab import *"
   ]
  },
  {
   "cell_type": "code",
   "execution_count": 2,
   "metadata": {
    "collapsed": false
   },
   "outputs": [
   ],
   "source": [
    "#import csv files\n",
    "dfData = pd.read_csv('NBAPlayerPPG.csv')"
   ]
  },
  {
   "cell_type": "code",
   "execution_count": 3,
   "metadata": {
    "collapsed": false,
    "scrolled": true
   },
   "outputs": [
    {
     "name": "stderr",
     "output_type": "stream",
     "text": [
      "WARNING: Some output was deleted.\n"
     ]
    }
   ],
   "source": [
    "#NBAPlayerPPG cleaning\n",
    "\n",
    "#We only want some of the columns\n",
    "dfData = dfData[['Year', 'Player', 'Pos', 'Age', 'Tm', 'G', 'MP', 'FG', '3P', '2P', 'FT', 'AST', 'STL', 'PS/G']]\n",
    "\n",
    "#In the \"Pos\" column, drop the player if the position isn't 'SG' or 'PG'\n",
    "dfData= dfData[(dfData['Pos'] == 'SG') | (dfData['Pos'] == 'PG')]\n",
    "\n",
    "#Drop any duplicate players in the same year\n",
    "dfData = dfData.drop_duplicates(['Year', 'Player'], keep='first')\n",
    "\n",
    "#Print\n",
    "dfData"
   ]
  },
  {
   "cell_type": "markdown",
   "metadata": {
    "collapsed": false
   },
   "source": [
    "We need to make sure all of our numerical values are floats and not strings. If we were to calculate the average of all players in the Year X, then a string would only concatenate the strings, not take the average of the numerical values.\n",
    "\n",
    "We can then clean the data even further, and drop players who have played less than 25 games. Dropping these players would give us more accurate data of when a player would break out. Bench players may skew the data because they may or may not develop during their time in the NBA."
   ]
  },
  {
   "cell_type": "code",
   "execution_count": 4,
   "metadata": {
    "collapsed": false
   },
   "outputs": [
   ],
   "source": [
    "#convert to floats in order to properly merge rows\n",
    "dfData['G'] = dfData['G'].astype('float64')\n",
    "dfData['MP'] = dfData['MP'].astype('float64')\n",
    "dfData['FG'] = dfData['FG'].astype('float64')\n",
    "dfData['3P'] = dfData['3P'].astype('float64')\n",
    "dfData['2P'] = dfData['2P'].astype('float64')\n",
    "dfData['STL'] = dfData['STL'].astype('float64')\n",
    "dfData['AST'] = dfData['AST'].astype('float64')\n",
    "dfData['PS/G'] = dfData['PS/G'].astype('float64')\n",
    "\n",
    "\n",
    "#rename columns to exclude numbers and other characters\n",
    "dfData = dfData.rename(columns={'3P': 'ThreeP', '2P': 'TwoP'})\n",
    "dfData = dfData.rename(columns={'PS/G': 'PPG'})\n",
    "\n",
    "#Remove all players who played less than 25 games\n",
    "dfData = dfData[dfData['G'] > 25]\n",
    "\n",
    "#Calculate ER of each player\n",
    "dfData['ER'] = (dfData.G + dfData.MP + dfData.FG + dfData.ThreeP + \n",
    "dfData.TwoP + dfData.AST + dfData.STL + dfData.STL + dfData.PPG)\n",
    "\n"
   ]
  },
  {
   "cell_type": "markdown",
   "metadata": {
    "collapsed": false
   },
   "source": [
    "By creating a deep copy of the dataframe, we create a completely new dataframe rather than a new dataframe referring to the old dfData. This allows us to continue to make changes to a dfData copy, while maintaining our original dfData."
   ]
  },
  {
   "cell_type": "code",
   "execution_count": 5,
   "metadata": {
    "collapsed": false
   },
   "outputs": [
   ],
   "source": [
    "#Create deep copy of dfData\n",
    "dfDataCopy = dfData.copy(deep=True)\n",
    "\n",
    "#Drop unneeded columns in the copy\n",
    "dfDataCopy.drop(['Player', 'Pos', 'Age', 'Tm'], axis=1, inplace=True)\n"
   ]
  },
  {
   "cell_type": "code",
   "execution_count": 6,
   "metadata": {
    "collapsed": false
   },
   "outputs": [
    {
     "data": {
      "text/html": [
       "<div>\n",
       "<table border=\"1\" class=\"dataframe\">\n",
       "  <thead>\n",
       "    <tr style=\"text-align: right;\">\n",
       "      <th></th>\n",
       "      <th>G</th>\n",
       "      <th>MP</th>\n",
       "      <th>FG</th>\n",
       "      <th>ThreeP</th>\n",
       "      <th>TwoP</th>\n",
       "      <th>AST</th>\n",
       "      <th>STL</th>\n",
       "      <th>PPG</th>\n",
       "      <th>ER</th>\n",
       "    </tr>\n",
       "    <tr>\n",
       "      <th>Year</th>\n",
       "      <th></th>\n",
       "      <th></th>\n",
       "      <th></th>\n",
       "      <th></th>\n",
       "      <th></th>\n",
       "      <th></th>\n",
       "      <th></th>\n",
       "      <th></th>\n",
       "      <th></th>\n",
       "    </tr>\n",
       "  </thead>\n",
       "  <tbody>\n",
       "    <tr>\n",
       "      <th>1991</th>\n",
       "      <td>68.983740</td>\n",
       "      <td>24.116260</td>\n",
       "      <td>4.280488</td>\n",
       "      <td>0.404878</td>\n",
       "      <td>3.873984</td>\n",
       "      <td>3.845528</td>\n",
       "      <td>1.077236</td>\n",
       "      <td>11.105691</td>\n",
       "      <td>118.765041</td>\n",
       "    </tr>\n",
       "    <tr>\n",
       "      <th>1992</th>\n",
       "      <td>66.477273</td>\n",
       "      <td>23.250000</td>\n",
       "      <td>3.980303</td>\n",
       "      <td>0.381061</td>\n",
       "      <td>3.594697</td>\n",
       "      <td>3.601515</td>\n",
       "      <td>1.046970</td>\n",
       "      <td>10.220455</td>\n",
       "      <td>113.599242</td>\n",
       "    </tr>\n",
       "    <tr>\n",
       "      <th>1993</th>\n",
       "      <td>66.104000</td>\n",
       "      <td>24.138400</td>\n",
       "      <td>4.030400</td>\n",
       "      <td>0.503200</td>\n",
       "      <td>3.526400</td>\n",
       "      <td>3.720800</td>\n",
       "      <td>1.052000</td>\n",
       "      <td>10.574400</td>\n",
       "      <td>114.701600</td>\n",
       "    </tr>\n",
       "    <tr>\n",
       "      <th>1994</th>\n",
       "      <td>68.503937</td>\n",
       "      <td>24.029134</td>\n",
       "      <td>3.894488</td>\n",
       "      <td>0.518898</td>\n",
       "      <td>3.374016</td>\n",
       "      <td>3.578740</td>\n",
       "      <td>1.064567</td>\n",
       "      <td>10.183465</td>\n",
       "      <td>116.211811</td>\n",
       "    </tr>\n",
       "    <tr>\n",
       "      <th>1995</th>\n",
       "      <td>64.837209</td>\n",
       "      <td>24.180620</td>\n",
       "      <td>3.699225</td>\n",
       "      <td>0.858140</td>\n",
       "      <td>2.831783</td>\n",
       "      <td>3.585271</td>\n",
       "      <td>0.995349</td>\n",
       "      <td>10.186822</td>\n",
       "      <td>112.169767</td>\n",
       "    </tr>\n",
       "    <tr>\n",
       "      <th>1996</th>\n",
       "      <td>67.303704</td>\n",
       "      <td>24.226667</td>\n",
       "      <td>3.637778</td>\n",
       "      <td>0.945185</td>\n",
       "      <td>2.690370</td>\n",
       "      <td>3.434815</td>\n",
       "      <td>0.965926</td>\n",
       "      <td>10.199259</td>\n",
       "      <td>114.369630</td>\n",
       "    </tr>\n",
       "    <tr>\n",
       "      <th>1997</th>\n",
       "      <td>65.963504</td>\n",
       "      <td>24.194891</td>\n",
       "      <td>3.535036</td>\n",
       "      <td>0.990511</td>\n",
       "      <td>2.545985</td>\n",
       "      <td>3.257664</td>\n",
       "      <td>0.987591</td>\n",
       "      <td>9.914599</td>\n",
       "      <td>112.377372</td>\n",
       "    </tr>\n",
       "    <tr>\n",
       "      <th>1998</th>\n",
       "      <td>63.755245</td>\n",
       "      <td>23.333566</td>\n",
       "      <td>3.307692</td>\n",
       "      <td>0.687413</td>\n",
       "      <td>2.615385</td>\n",
       "      <td>3.127273</td>\n",
       "      <td>0.941259</td>\n",
       "      <td>9.018881</td>\n",
       "      <td>107.727972</td>\n",
       "    </tr>\n",
       "    <tr>\n",
       "      <th>1999</th>\n",
       "      <td>43.327586</td>\n",
       "      <td>25.332759</td>\n",
       "      <td>3.460345</td>\n",
       "      <td>0.785345</td>\n",
       "      <td>2.672414</td>\n",
       "      <td>3.346552</td>\n",
       "      <td>1.025862</td>\n",
       "      <td>9.481034</td>\n",
       "      <td>90.457759</td>\n",
       "    </tr>\n",
       "    <tr>\n",
       "      <th>2000</th>\n",
       "      <td>63.687943</td>\n",
       "      <td>23.107801</td>\n",
       "      <td>3.404255</td>\n",
       "      <td>0.743262</td>\n",
       "      <td>2.660993</td>\n",
       "      <td>3.191489</td>\n",
       "      <td>0.907801</td>\n",
       "      <td>9.210638</td>\n",
       "      <td>107.821986</td>\n",
       "    </tr>\n",
       "    <tr>\n",
       "      <th>2001</th>\n",
       "      <td>63.644928</td>\n",
       "      <td>24.262319</td>\n",
       "      <td>3.465942</td>\n",
       "      <td>0.725362</td>\n",
       "      <td>2.736957</td>\n",
       "      <td>3.241304</td>\n",
       "      <td>0.923188</td>\n",
       "      <td>9.445652</td>\n",
       "      <td>109.368841</td>\n",
       "    </tr>\n",
       "    <tr>\n",
       "      <th>2002</th>\n",
       "      <td>65.413043</td>\n",
       "      <td>24.534783</td>\n",
       "      <td>3.689130</td>\n",
       "      <td>0.805797</td>\n",
       "      <td>2.885507</td>\n",
       "      <td>3.323188</td>\n",
       "      <td>0.925362</td>\n",
       "      <td>9.884783</td>\n",
       "      <td>112.386957</td>\n",
       "    </tr>\n",
       "    <tr>\n",
       "      <th>2003</th>\n",
       "      <td>66.830882</td>\n",
       "      <td>24.293382</td>\n",
       "      <td>3.625735</td>\n",
       "      <td>0.769853</td>\n",
       "      <td>2.852206</td>\n",
       "      <td>3.107353</td>\n",
       "      <td>0.920588</td>\n",
       "      <td>9.877206</td>\n",
       "      <td>113.197794</td>\n",
       "    </tr>\n",
       "    <tr>\n",
       "      <th>2004</th>\n",
       "      <td>64.213235</td>\n",
       "      <td>24.953676</td>\n",
       "      <td>3.677941</td>\n",
       "      <td>0.825000</td>\n",
       "      <td>2.852206</td>\n",
       "      <td>3.271324</td>\n",
       "      <td>0.958824</td>\n",
       "      <td>10.028676</td>\n",
       "      <td>111.739706</td>\n",
       "    </tr>\n",
       "    <tr>\n",
       "      <th>2005</th>\n",
       "      <td>65.236111</td>\n",
       "      <td>24.230556</td>\n",
       "      <td>3.493750</td>\n",
       "      <td>0.815972</td>\n",
       "      <td>2.680556</td>\n",
       "      <td>3.197917</td>\n",
       "      <td>0.888889</td>\n",
       "      <td>9.739583</td>\n",
       "      <td>111.172222</td>\n",
       "    </tr>\n",
       "    <tr>\n",
       "      <th>2006</th>\n",
       "      <td>62.412162</td>\n",
       "      <td>24.321622</td>\n",
       "      <td>3.630405</td>\n",
       "      <td>0.832432</td>\n",
       "      <td>2.796622</td>\n",
       "      <td>3.073649</td>\n",
       "      <td>0.843243</td>\n",
       "      <td>10.079730</td>\n",
       "      <td>108.833108</td>\n",
       "    </tr>\n",
       "    <tr>\n",
       "      <th>2007</th>\n",
       "      <td>62.936709</td>\n",
       "      <td>23.724051</td>\n",
       "      <td>3.553165</td>\n",
       "      <td>0.844304</td>\n",
       "      <td>2.708861</td>\n",
       "      <td>3.048101</td>\n",
       "      <td>0.822785</td>\n",
       "      <td>9.918354</td>\n",
       "      <td>108.379114</td>\n",
       "    </tr>\n",
       "    <tr>\n",
       "      <th>2008</th>\n",
       "      <td>64.509804</td>\n",
       "      <td>23.662092</td>\n",
       "      <td>3.584967</td>\n",
       "      <td>0.906536</td>\n",
       "      <td>2.674510</td>\n",
       "      <td>3.091503</td>\n",
       "      <td>0.789542</td>\n",
       "      <td>9.819608</td>\n",
       "      <td>109.828105</td>\n",
       "    </tr>\n",
       "    <tr>\n",
       "      <th>2009</th>\n",
       "      <td>64.808511</td>\n",
       "      <td>23.916312</td>\n",
       "      <td>3.618440</td>\n",
       "      <td>0.951773</td>\n",
       "      <td>2.669504</td>\n",
       "      <td>3.069504</td>\n",
       "      <td>0.837589</td>\n",
       "      <td>10.053191</td>\n",
       "      <td>110.762411</td>\n",
       "    </tr>\n",
       "    <tr>\n",
       "      <th>2010</th>\n",
       "      <td>64.966216</td>\n",
       "      <td>24.464865</td>\n",
       "      <td>3.796622</td>\n",
       "      <td>0.929730</td>\n",
       "      <td>2.870270</td>\n",
       "      <td>3.168243</td>\n",
       "      <td>0.837838</td>\n",
       "      <td>10.377027</td>\n",
       "      <td>112.248649</td>\n",
       "    </tr>\n",
       "    <tr>\n",
       "      <th>2011</th>\n",
       "      <td>65.793103</td>\n",
       "      <td>24.270345</td>\n",
       "      <td>3.693103</td>\n",
       "      <td>0.946897</td>\n",
       "      <td>2.748966</td>\n",
       "      <td>3.190345</td>\n",
       "      <td>0.846207</td>\n",
       "      <td>10.211034</td>\n",
       "      <td>112.546207</td>\n",
       "    </tr>\n",
       "    <tr>\n",
       "      <th>2012</th>\n",
       "      <td>51.341935</td>\n",
       "      <td>23.662581</td>\n",
       "      <td>3.581935</td>\n",
       "      <td>0.936129</td>\n",
       "      <td>2.644516</td>\n",
       "      <td>3.091613</td>\n",
       "      <td>0.848387</td>\n",
       "      <td>9.774194</td>\n",
       "      <td>96.729677</td>\n",
       "    </tr>\n",
       "    <tr>\n",
       "      <th>2013</th>\n",
       "      <td>62.915584</td>\n",
       "      <td>23.204545</td>\n",
       "      <td>3.503247</td>\n",
       "      <td>0.990260</td>\n",
       "      <td>2.522727</td>\n",
       "      <td>3.176623</td>\n",
       "      <td>0.861039</td>\n",
       "      <td>9.614286</td>\n",
       "      <td>107.649351</td>\n",
       "    </tr>\n",
       "    <tr>\n",
       "      <th>2014</th>\n",
       "      <td>63.642384</td>\n",
       "      <td>23.582119</td>\n",
       "      <td>3.650331</td>\n",
       "      <td>1.056291</td>\n",
       "      <td>2.594040</td>\n",
       "      <td>3.156291</td>\n",
       "      <td>0.846358</td>\n",
       "      <td>10.143046</td>\n",
       "      <td>109.517219</td>\n",
       "    </tr>\n",
       "    <tr>\n",
       "      <th>2015</th>\n",
       "      <td>61.011905</td>\n",
       "      <td>23.602976</td>\n",
       "      <td>3.673810</td>\n",
       "      <td>1.060714</td>\n",
       "      <td>2.614881</td>\n",
       "      <td>3.045238</td>\n",
       "      <td>0.863095</td>\n",
       "      <td>10.169048</td>\n",
       "      <td>106.904762</td>\n",
       "    </tr>\n",
       "    <tr>\n",
       "      <th>2016</th>\n",
       "      <td>62.895062</td>\n",
       "      <td>23.301852</td>\n",
       "      <td>3.658025</td>\n",
       "      <td>1.073457</td>\n",
       "      <td>2.588272</td>\n",
       "      <td>3.003704</td>\n",
       "      <td>0.840741</td>\n",
       "      <td>10.107407</td>\n",
       "      <td>108.309259</td>\n",
       "    </tr>\n",
       "  </tbody>\n",
       "</table>\n",
       "</div>"
      ]
     },
     "execution_count": 6,
     "metadata": {
     },
     "output_type": "execute_result"
    }
   ],
   "source": [
    "#Get the league average of every statistic\n",
    "dfDataCopy = dfDataCopy.groupby(['Year']).mean()\n",
    "\n",
    "#Print the copy\n",
    "dfDataCopy"
   ]
  },
  {
   "cell_type": "markdown",
   "metadata": {
    "collapsed": false
   },
   "source": [
    "# Data Visualization"
   ]
  },
  {
   "cell_type": "markdown",
   "metadata": {
    "collapsed": false
   },
   "source": [
    "Because we calculated the average effiency rating(ER) of every year from 1991 - 2016, we can visualize the data in the form of a scatter plot."
   ]
  },
  {
   "cell_type": "code",
   "execution_count": 7,
   "metadata": {
    "collapsed": false
   },
   "outputs": [
    {
     "data": {
      "text/plain": [
       "<matplotlib.text.Text at 0x7f1ccadb3d30>"
      ]
     },
     "execution_count": 7,
     "metadata": {
     },
     "output_type": "execute_result"
    },
    {
     "data": {
      "image/png": "[encoded data removed]"
     }
    }
   ],
   "source": [
    "#Create scatterplot of average NBA effiency ratings and label accordingly\n",
    "plt.scatter(dfDataCopy.index, dfDataCopy.ER)\n",
    "plt.xlabel('Year')\n",
    "plt.ylabel('Efficiency Rating')"
   ]
  },
  {
   "cell_type": "markdown",
   "metadata": {
    "collapsed": false
   },
   "source": [
    "We can see that the general trend is that player ER has gone down over the past 25 years.\n",
    "\n",
    "Now we can visualize how Kobe Bryant's ER compared to others."
   ]
  },
  {
   "cell_type": "code",
   "execution_count": 8,
   "metadata": {
    "collapsed": false
   },
   "outputs": [
    {
     "name": "stdout",
     "output_type": "stream",
     "text": [
      "      Year       Player Pos    Age   Tm     G    MP   FG  ThreeP  TwoP    FT  \\\n",
      "658   2015  Kobe Bryant  SG  36.00  LAL  35.0  34.5  7.6     1.5   6.1  5.60   \n",
      "1919  2013  Kobe Bryant  SG  34.00  LAL  78.0  38.6  9.5     1.7   7.8  6.70   \n",
      "2483  2012  Kobe Bryant  SG  33.00  LAL  58.0  38.5  9.9     1.5   8.4  6.60   \n",
      "3064  2011  Kobe Bryant  SG  32.00  LAL  82.0  33.9  9.0     1.4   7.6  5.90   \n",
      "3674  2010  Kobe Bryant  SG  31.00  LAL  73.0  38.8  9.8     1.4   8.5  6.00   \n",
      "\n",
      "      AST  STL   PPG     ER  \n",
      "658   5.6  1.3  22.3  115.2  \n",
      "1919  6.0  1.4  27.3  171.7  \n",
      "2483  4.6  1.2  27.9  151.2  \n",
      "3064  4.7  1.2  25.3  166.3  \n",
      "3674  5.0  1.5  27.0  166.5  \n"
     ]
    },
    {
     "data": {
      "text/plain": [
       "(1996, 2016)"
      ]
     },
     "execution_count": 8,
     "metadata": {
     },
     "output_type": "execute_result"
    },
    {
     "data": {
      "image/png": "[encoded data removed]"
     }
    }
   ],
   "source": [
    "#assign Kobe Bryant to a variable\n",
    "player_Name = ['Kobe Bryant']\n",
    "\n",
    "#Retrieve all rows whose Player name is 'Kobe Bryant'\n",
    "dfKobe = dfData[dfData.Player.isin(player_Name)]\n",
    "\n",
    "#Print Kobe's stats recent 5 years\n",
    "print(dfKobe.head())\n",
    "\n",
    "#Plot Kobe's Stats\n",
    "plt.scatter(dfKobe['Year'], dfKobe['ER'], color = 'm')\n",
    "plt.xlabel('Year')\n",
    "plt.ylabel('Efficiency Rating')\n",
    "\n",
    "#Restrict the plot to years Kobe played, not the entire 1990-2016 duration\n",
    "plt.xlim(1996, 2016)"
   ]
  },
  {
   "cell_type": "markdown",
   "metadata": {
    "collapsed": false
   },
   "source": [
    "Let's plot Kobe Bryant's ER vs. league average ER on the same graph."
   ]
  },
  {
   "cell_type": "code",
   "execution_count": 9,
   "metadata": {
    "collapsed": false,
    "scrolled": true
   },
   "outputs": [
    {
     "data": {
      "text/plain": [
       "(1996, 2016)"
      ]
     },
     "execution_count": 9,
     "metadata": {
     },
     "output_type": "execute_result"
    },
    {
     "data": {
      "image/png": "[encoded data removed]"
     }
    }
   ],
   "source": [
    "#Plot league average ER vs. Kobe Bryant ER\n",
    "plt.scatter(dfDataCopy.index, dfDataCopy.ER)\n",
    "plt.scatter(dfKobe.Year, dfKobe.ER, color = 'm')\n",
    "\n",
    "#Restrict the plot to years Kobe played, not the entire 1990-2016 duration\n",
    "plt.xlim(1996, 2016)"
   ]
  },
  {
   "cell_type": "markdown",
   "metadata": {
    "collapsed": false
   },
   "source": [
    "Creating a linear regression for Kobe's ER stats will allow us see the general trend of Kobe's stats throughout the years"
   ]
  },
  {
   "cell_type": "code",
   "execution_count": 10,
   "metadata": {
    "collapsed": false
   },
   "outputs": [
   ],
   "source": [
    "# Comparison of simple linear regressions: kobes ER/year and player average ER/year \n",
    "p1 = np.polyfit(dfKobe.Year, dfKobe.ER, 1)"
   ]
  },
  {
   "cell_type": "code",
   "execution_count": 11,
   "metadata": {
    "collapsed": false
   },
   "outputs": [
    {
     "data": {
      "text/plain": [
       "[<matplotlib.lines.Line2D at 0x7f1ccac632e8>]"
      ]
     },
     "execution_count": 11,
     "metadata": {
     },
     "output_type": "execute_result"
    },
    {
     "data": {
      "image/png": "[encoded data removed]"
     }
    }
   ],
   "source": [
    "#Create a linear regression \n",
    "plt.plot(dfKobe.Year, dfKobe.ER, 'o', color = 'm')\n",
    "plt.plot(dfKobe.Year, polyval(p1,dfKobe.Year))"
   ]
  },
  {
   "cell_type": "markdown",
   "metadata": {
    "collapsed": false
   },
   "source": [
    "A linear regression doesn't look it it makes sense. As a player gets older, a player's efficiency rating will NOT get better. Thus, a linear regression is a terrible predictor of ER. Try a quadratic regression instead."
   ]
  },
  {
   "cell_type": "code",
   "execution_count": 12,
   "metadata": {
    "collapsed": false
   },
   "outputs": [
   ],
   "source": [
    "p2 = np.polyfit(dfKobe.Year, dfKobe.ER, 2)"
   ]
  },
  {
   "cell_type": "code",
   "execution_count": 13,
   "metadata": {
    "collapsed": false
   },
   "outputs": [
    {
     "data": {
      "text/plain": [
       "[<matplotlib.lines.Line2D at 0x7f1ccac496d8>]"
      ]
     },
     "execution_count": 13,
     "metadata": {
     },
     "output_type": "execute_result"
    },
    {
     "data": {
      "image/png": "[encoded data removed]"
     }
    }
   ],
   "source": [
    "#Scatter plot of Kobe's stats\n",
    "plt.plot(dfKobe.Year, dfKobe.ER, 'o', color = 'm')\n",
    "\n",
    "#Create quadratic regression of Kobe's efficiency rating\n",
    "plt.plot(dfKobe.Year, polyval(p2,dfKobe.Year))\n"
   ]
  },
  {
   "cell_type": "markdown",
   "metadata": {
    "collapsed": false
   },
   "source": [
    "A quadratic regression looks like a much better fit. From our knowledge of basketball, Kobe Bryant most definitely reached his prime in 2006. His ER falls off after that, which makes sense because of old age. \n",
    "\n",
    "We can try and see if a cubic regression will be a better fit."
   ]
  },
  {
   "cell_type": "code",
   "execution_count": 14,
   "metadata": {
    "collapsed": false
   },
   "outputs": [
   ],
   "source": [
    "p3 = np.polyfit(dfKobe.Year, dfKobe.ER, 3)"
   ]
  },
  {
   "cell_type": "code",
   "execution_count": 15,
   "metadata": {
    "collapsed": false
   },
   "outputs": [
    {
     "data": {
      "text/plain": [
       "[<matplotlib.lines.Line2D at 0x7f1ccabb5cf8>]"
      ]
     },
     "execution_count": 15,
     "metadata": {
     },
     "output_type": "execute_result"
    },
    {
     "data": {
      "image/png": "[encoded data removed]"
     }
    }
   ],
   "source": [
    "#Scatter plot of Kobe's stats\n",
    "plt.plot(dfKobe.Year, dfKobe.ER, 'o', color = 'm')\n",
    "\n",
    "#Create cubic regression of Kobe's efficiency rating\n",
    "plt.plot(dfKobe.Year, polyval(p3,dfKobe.Year))"
   ]
  },
  {
   "cell_type": "markdown",
   "metadata": {
    "collapsed": false
   },
   "source": [
    "A cubic regression looks the same, so we can stick with the quadratic regression.\n",
    "\n",
    "Let's analyze another player: Steve Nash. Did Steve Nash peak after 7 years just as Kobe did?"
   ]
  },
  {
   "cell_type": "code",
   "execution_count": 16,
   "metadata": {
    "collapsed": false
   },
   "outputs": [
    {
     "name": "stdout",
     "output_type": "stream",
     "text": [
      "      Year      Player Pos    Age   Tm     G    MP   FG  ThreeP  TwoP    FT  \\\n",
      "2223  2013  Steve Nash  PG  38.00  LAL  50.0  32.5  4.7     1.1   3.6  2.10   \n",
      "2786  2012  Steve Nash  PG  37.00  PHO  62.0  31.6  4.8     0.9   3.9  2.00   \n",
      "3385  2011  Steve Nash  PG  36.00  PHO  75.0  33.3  5.3     1.1   4.2  3.00   \n",
      "3991  2010  Steve Nash  PG  35.00  PHO  81.0  32.8  6.2     1.5   4.6  2.60   \n",
      "4551  2009  Steve Nash  PG  34.00  PHO  74.0  33.6  5.8     1.5   4.3  2.60   \n",
      "\n",
      "       AST  STL   PPG     ER  \n",
      "2223   6.7  0.6  12.7  112.5  \n",
      "2786  10.7  0.6  12.5  127.6  \n",
      "3385  11.4  0.6  14.7  146.2  \n",
      "3991  11.0  0.5  16.5  154.6  \n",
      "4551   9.7  0.7  15.7  146.0  \n"
     ]
    },
    {
     "data": {
      "text/plain": [
       "[<matplotlib.lines.Line2D at 0x7f1ccab39978>]"
      ]
     },
     "execution_count": 16,
     "metadata": {
     },
     "output_type": "execute_result"
    },
    {
     "data": {
      "image/png": "[encoded data removed]"
     }
    }
   ],
   "source": [
    "#assign Steve Nash to a variable\n",
    "player_Name1 = ['Steve Nash']\n",
    "\n",
    "#Retrieve all rows whose Player name is 'Steve Nash'\n",
    "dfData[dfData.Player.isin(player_Name1)]\n",
    "\n",
    "#Create a new df with Nash's stats throughout the years\n",
    "dfNash = dfData[dfData.Player.isin(player_Name1)]\n",
    "\n",
    "#print last 5 years\n",
    "print(dfNash.head())\n",
    "\n",
    "#Plot Nash's Stats\n",
    "plt.scatter(dfNash.Year, dfNash.ER, color = 'y')\n",
    "plt.xlabel('Year')\n",
    "plt.ylabel('Efficiency Rating')\n",
    "\n",
    "#Restrict the plot to years Nash played, not the entire 1990-2016 duration\n",
    "plt.xlim(1996, 2015)\n",
    "\n",
    "#Create polyfit of Nash\n",
    "p2 = np.polyfit(dfNash.Year, dfNash.ER, 2)\n",
    "\n",
    "#Scatter plot of Nash's\n",
    "plt.plot(dfNash.Year, dfNash.ER, 'o', color = 'y')\n",
    "\n",
    "#Create quadratic regression of Nash's efficiency rating\n",
    "plt.plot(dfNash.Year, polyval(p2,dfNash.Year))"
   ]
  },
  {
   "cell_type": "markdown",
   "metadata": {
    "collapsed": false
   },
   "source": [
    "It looks like Nash did peak after 7 years. We can continue to utilize this test with many different players."
   ]
  },
  {
   "cell_type": "code",
   "execution_count": 17,
   "metadata": {
    "collapsed": false
   },
   "outputs": [
    {
     "data": {
      "text/plain": [
       "(1996, 2016)"
      ]
     },
     "execution_count": 17,
     "metadata": {
     },
     "output_type": "execute_result"
    },
    {
     "data": {
      "image/png": "[encoded data removed]"
     }
    }
   ],
   "source": [
    "#Plot league average ER vs. Steve Nash ER\n",
    "plt.scatter(dfDataCopy.index, dfDataCopy.ER)\n",
    "plt.scatter(dfNash.Year, dfNash.ER, color = 'm')\n",
    "\n",
    "#Restrict the plot to years Nash played, not the entire 1990-2016 duration\n",
    "plt.xlim(1996, 2016)"
   ]
  },
  {
   "cell_type": "code",
   "execution_count": 26,
   "metadata": {
    "collapsed": false
   },
   "outputs": [
    {
     "name": "stdout",
     "output_type": "stream",
     "text": [
      "      Year       Player Pos    Age   Tm     G    MP   FG  ThreeP  TwoP    FT  \\\n",
      "417   2016  Tony Parker  PG  33.00  SAS  72.0  27.5  4.9     0.4   4.5  1.80   \n",
      "1023  2015  Tony Parker  PG  32.00  SAS  68.0  28.7  5.9     0.6   5.4  1.90   \n",
      "1670  2014  Tony Parker  PG  31.00  SAS  68.0  29.4  6.7     0.4   6.3  2.90   \n",
      "2245  2013  Tony Parker  PG  30.00  SAS  66.0  32.9  7.9     0.4   7.5  4.20   \n",
      "2804  2012  Tony Parker  PG  29.00  SAS  60.0  32.1  7.1     0.2   6.9  3.80   \n",
      "\n",
      "      AST  STL   PPG     ER  \n",
      "417   5.3  0.8  11.9  128.1  \n",
      "1023  4.9  0.6  14.4  129.1  \n",
      "1670  5.7  0.5  16.7  134.2  \n",
      "2245  7.6  0.8  20.3  144.2  \n",
      "2804  7.7  1.0  18.3  134.3  \n"
     ]
    },
    {
     "data": {
      "text/plain": [
       "[<matplotlib.lines.Line2D at 0x7f1cc4ebeef0>]"
      ]
     },
     "execution_count": 26,
     "metadata": {
     },
     "output_type": "execute_result"
    },
    {
     "data": {
      "image/png": "[encoded data removed]"
     }
    }
   ],
   "source": [
    "#assign Tony Parker to a variable\n",
    "player_NameTP = ['Tony Parker']\n",
    "\n",
    "#Retrieve all rows whose Player name is 'Tony Parker'\n",
    "dfTP = dfData[dfData.Player.isin(player_NameTP)]\n",
    "\n",
    "#print last 5 years\n",
    "print(dfTP.head())\n",
    "\n",
    "#Plot Parker's Stats\n",
    "plt.scatter(dfTP.Year, dfTP.ER, color = 'g')\n",
    "plt.xlabel('Year')\n",
    "plt.ylabel('Efficiency Rating')\n",
    "\n",
    "#Restrict the plot to years Tony Parker played, not the entire 1990-2016 duration\n",
    "plt.xlim(2001, 2016)\n",
    "\n",
    "#Create polyfit of Parker\n",
    "p3 = np.polyfit(dfTP.Year, dfTP.ER, 2)\n",
    "\n",
    "#Scatter plot of Parker\n",
    "plt.plot(dfTP.Year, dfTP.ER, 'o', color = 'y')\n",
    "\n",
    "#Create quadratic regression of Parker's efficiency rating\n",
    "plt.plot(dfTP.Year, polyval(p3, dfTP.Year))"
   ]
  },
  {
   "cell_type": "code",
   "execution_count": 27,
   "metadata": {
    "collapsed": false
   },
   "outputs": [
    {
     "data": {
      "text/plain": [
       "(2001, 2016)"
      ]
     },
     "execution_count": 27,
     "metadata": {
     },
     "output_type": "execute_result"
    },
    {
     "data": {
      "image/png": "[encoded data removed]"
     }
    }
   ],
   "source": [
    "#Plot league average ER vs. Tony Parker ER\n",
    "plt.scatter(dfDataCopy.index, dfDataCopy.ER)\n",
    "plt.scatter(dfTP.Year, dfTP.ER, color = 'm')\n",
    "\n",
    "#Restrict the plot to years Tony Parker played, not the entire 1990-2016 duration\n",
    "plt.xlim(2001, 2016)"
   ]
  },
  {
   "cell_type": "code",
   "execution_count": 28,
   "metadata": {
    "collapsed": false
   },
   "outputs": [
    {
     "name": "stdout",
     "output_type": "stream",
     "text": [
      "      Year        Player Pos    Age   Tm     G    MP   FG  ThreeP  TwoP    FT  \\\n",
      "562   2016  Lou Williams  SG  29.00  LAL  67.0  28.5  4.2     1.6   2.6  5.30   \n",
      "1204  2015  Lou Williams  SG  28.00  TOR  80.0  25.2  4.7     1.9   2.8  4.30   \n",
      "1825  2014  Lou Williams  PG  27.00  ATL  60.0  24.1  3.3     1.3   2.0  2.50   \n",
      "2399  2013  Lou Williams  SG  26.00  ATL  39.0  28.7  4.8     1.8   2.9  2.70   \n",
      "2942  2012  Lou Williams  PG  25.00  PHI  64.0  26.3  5.0     1.3   3.7  3.70   \n",
      "\n",
      "      AST  STL   PPG     ER  \n",
      "562   2.5  0.9  15.3  123.5  \n",
      "1204  2.1  1.1  15.5  134.4  \n",
      "1825  3.5  0.8  10.4  106.2  \n",
      "2399  3.6  1.1  14.1   97.1  \n",
      "2942  3.5  0.8  14.9  120.3  \n"
     ]
    },
    {
     "data": {
      "text/plain": [
       "[<matplotlib.lines.Line2D at 0x7f1cc4d9cf28>]"
      ]
     },
     "execution_count": 28,
     "metadata": {
     },
     "output_type": "execute_result"
    },
    {
     "data": {
      "image/png": "[encoded data removed]"
     }
    }
   ],
   "source": [
    "#assign Lou Williams to a variable\n",
    "player_Name3 = ['Lou Williams']\n",
    "\n",
    "#Retrieve all rows whose Player name is 'Lou Williams'\n",
    "dfLW = dfData[dfData.Player.isin(player_Name3)]\n",
    "\n",
    "#print last 5 years\n",
    "print(dfLW.head())\n",
    "\n",
    "#Plot Williams's Stats\n",
    "plt.scatter(dfLW.Year, dfLW.ER, color = 'g')\n",
    "plt.xlabel('Year')\n",
    "plt.ylabel('Efficiency Rating')\n",
    "\n",
    "#Restrict the plot to years Lou Williams played, not the entire 1990-2016 duration\n",
    "plt.xlim(2005, 2016)\n",
    "\n",
    "#Create polyfit of Williams\n",
    "p3 = np.polyfit(dfLW.Year, dfLW.ER, 2)\n",
    "\n",
    "#Scatter plot of Williams'\n",
    "plt.plot(dfLW.Year, dfLW.ER, 'o', color = 'y')\n",
    "\n",
    "#Create quadratic regression of Williams' efficiency rating\n",
    "plt.plot(dfLW.Year, polyval(p3, dfLW.Year))\n"
   ]
  },
  {
   "cell_type": "code",
   "execution_count": 29,
   "metadata": {
    "collapsed": false
   },
   "outputs": [
    {
     "data": {
      "text/plain": [
       "(2006, 2016)"
      ]
     },
     "execution_count": 29,
     "metadata": {
     },
     "output_type": "execute_result"
    },
    {
     "data": {
      "image/png": "[encoded data removed]"
     }
    }
   ],
   "source": [
    "#Plot league average ER vs. Lou Williams ER\n",
    "plt.scatter(dfDataCopy.index, dfDataCopy.ER)\n",
    "plt.scatter(dfLW.Year, dfLW.ER, color = 'm')\n",
    "\n",
    "#Restrict the plot to the past 10 years\n",
    "plt.xlim(2006, 2016)"
   ]
  },
  {
   "cell_type": "code",
   "execution_count": 30,
   "metadata": {
    "collapsed": false
   },
   "outputs": [
    {
     "name": "stdout",
     "output_type": "stream",
     "text": [
      "      Year       Player Pos    Age   Tm     G    MP   FG  ThreeP  TwoP    FT  \\\n",
      "182   2016  Eric Gordon  SG  27.00  NOP  45.0  32.9  5.1     2.5   2.6  2.50   \n",
      "802   2015  Eric Gordon  SG  26.00  NOP  61.0  33.1  4.7     2.3   2.4  1.80   \n",
      "1458  2014  Eric Gordon  SG  25.00  NOP  64.0  32.1  5.6     1.6   4.0  2.70   \n",
      "2030  2013  Eric Gordon  SG  24.00  NOH  42.0  30.1  5.6     1.3   4.3  4.50   \n",
      "3208  2011  Eric Gordon  SG  22.00  LAC  56.0  37.7  7.6     1.9   5.7  5.10   \n",
      "\n",
      "      AST  STL   PPG     ER  \n",
      "182   2.7  1.0  15.2  108.0  \n",
      "802   3.8  0.8  13.4  122.3  \n",
      "1458  3.3  1.2  15.4  128.4  \n",
      "2030  3.3  1.1  17.0  105.8  \n",
      "3208  4.4  1.3  22.3  138.2  \n"
     ]
    },
    {
     "data": {
      "text/plain": [
       "[<matplotlib.lines.Line2D at 0x7f1cc4ce7f60>]"
      ]
     },
     "execution_count": 30,
     "metadata": {
     },
     "output_type": "execute_result"
    },
    {
     "data": {
      "image/png": "[encoded data removed]"
     }
    }
   ],
   "source": [
    "#assign Eric Gordon  to a variable\n",
    "player_Name5 = ['Eric Gordon']\n",
    "\n",
    "#Retrieve all rows whose Player name is 'Eric Gordon'\n",
    "dfEG = dfData[dfData.Player.isin(player_Name5)]\n",
    "\n",
    "#print last 5 years\n",
    "print(dfEG.head())\n",
    "\n",
    "#Plot Gordon's Stats\n",
    "plt.scatter(dfEG.Year, dfEG.ER, color = 'g')\n",
    "plt.xlabel('Year')\n",
    "plt.ylabel('Efficiency Rating')\n",
    "\n",
    "#Restrict the plot to years Gordon played, not the entire 1990-2016 duration\n",
    "plt.xlim(2008, 2016)\n",
    "\n",
    "#Create polyfit of Gordon\n",
    "p5 = np.polyfit(dfEG.Year, dfEG.ER, 2)\n",
    "\n",
    "#Scatter plot of Gordon's ER\n",
    "plt.plot(dfEG.Year, dfEG.ER, 'o', color = 'y')\n",
    "\n",
    "#Create quadratic regression of Gordon's efficiency rating\n",
    "plt.plot(dfEG.Year, polyval(p5, dfEG.Year))"
   ]
  },
  {
   "cell_type": "code",
   "execution_count": 31,
   "metadata": {
    "collapsed": false
   },
   "outputs": [
    {
     "data": {
      "text/plain": [
       "(2006, 2016)"
      ]
     },
     "execution_count": 31,
     "metadata": {
     },
     "output_type": "execute_result"
    },
    {
     "data": {
      "image/png": "[encoded data removed]"
     }
    }
   ],
   "source": [
    "#Plot league average ER vs. Eric Gordon ER\n",
    "plt.scatter(dfDataCopy.index, dfDataCopy.ER)\n",
    "plt.scatter(dfEG.Year, dfEG.ER, color = 'm')\n",
    "\n",
    "#Restrict the plot to the past 10 years\n",
    "plt.xlim(2006, 2016)"
   ]
  },
  {
   "cell_type": "code",
   "execution_count": 32,
   "metadata": {
    "collapsed": false
   },
   "outputs": [
    {
     "name": "stdout",
     "output_type": "stream",
     "text": [
      "      Year     Player Pos    Age   Tm     G    MP   FG  ThreeP  TwoP    FT  \\\n",
      "543   2016  John Wall  PG  25.00  WAS  77.0  36.2  7.4     1.5   5.9  3.50   \n",
      "1186  2015  John Wall  PG  24.00  WAS  79.0  35.9  6.6     0.8   5.7  3.60   \n",
      "1809  2014  John Wall  PG  23.00  WAS  82.0  36.3  7.1     1.3   5.7  3.90   \n",
      "2378  2013  John Wall  PG  22.00  WAS  49.0  32.7  6.6     0.2   6.4  5.00   \n",
      "2918  2012  John Wall  PG  21.00  WAS  66.0  36.2  5.7     0.0   5.7  4.80   \n",
      "\n",
      "       AST  STL   PPG     ER  \n",
      "543   10.2  1.9  19.9  161.9  \n",
      "1186  10.0  1.7  17.6  159.0  \n",
      "1809   8.8  1.8  19.3  164.1  \n",
      "2378   7.6  1.3  18.5  123.6  \n",
      "2918   8.0  1.4  16.3  140.7  \n"
     ]
    },
    {
     "data": {
      "text/plain": [
       "[<matplotlib.lines.Line2D at 0x7f1cc4d17b70>]"
      ]
     },
     "execution_count": 32,
     "metadata": {
     },
     "output_type": "execute_result"
    },
    {
     "data": {
      "image/png": "[encoded data removed]"
     }
    }
   ],
   "source": [
    "#assign John Wall  to a variable\n",
    "player_NameJW = ['John Wall']\n",
    "\n",
    "#Retrieve all rows whose Player name is 'John Wall'\n",
    "dfJW = dfData[dfData.Player.isin(player_NameJW)]\n",
    "\n",
    "#print last 5 years\n",
    "print(dfJW.head())\n",
    "\n",
    "#Plot Wall's Stats\n",
    "plt.scatter(dfJW.Year, dfJW.ER, color = 'g')\n",
    "plt.xlabel('Year')\n",
    "plt.ylabel('Efficiency Rating')\n",
    "\n",
    "#Restrict the plot to years Wall played, not the entire 1990-2016 duration\n",
    "plt.xlim(2010, 2016)\n",
    "\n",
    "#Create polyfit of Wall\n",
    "p8 = np.polyfit(dfJW.Year, dfJW.ER, 2)\n",
    "\n",
    "#Scatter plot of Wall\n",
    "plt.plot(dfJW.Year, dfJW.ER, 'o', color = 'y')\n",
    "\n",
    "#Create quadratic regression of Wall's efficiency rating\n",
    "plt.plot(dfJW.Year, polyval(p8, dfJW.Year))"
   ]
  },
  {
   "cell_type": "code",
   "execution_count": 33,
   "metadata": {
    "collapsed": false
   },
   "outputs": [
    {
     "data": {
      "text/plain": [
       "(2006, 2016)"
      ]
     },
     "execution_count": 33,
     "metadata": {
     },
     "output_type": "execute_result"
    },
    {
     "data": {
      "image/png": "[encoded data removed]"
     }
    }
   ],
   "source": [
    "#Plot league average ER vs. John Wall's ER\n",
    "plt.scatter(dfDataCopy.index, dfDataCopy.ER)\n",
    "plt.scatter(dfJW.Year, dfJW.ER, color = 'm')\n",
    "\n",
    "#Restrict the plot to the past 10 years\n",
    "plt.xlim(2006, 2016)"
   ]
  },
  {
   "cell_type": "markdown",
   "metadata": {
    "collapsed": false
   },
   "source": [
    "# Data Analysis and Results"
   ]
  },
  {
   "cell_type": "markdown",
   "metadata": {
    "collapsed": false
   },
   "source": [
    "After inputting the data and obtaining an efficiency rating for each player for each year, we were able to calculate an average efficiency rating for each season. From this, we see that each year, the average efficiency rating hovers around 115 with a standard deviation of about 30. This high standard deviation was expected do to the obvious skill differences between some of the league's best players and its worst players. Our research technique aimed to fit our efficiency rating to a regression analysis that showed data correlation in multiple players, and matched expectations about timing of All-Star player breakout.\n",
    "\n",
    "Kobe, Nash, and Parker had steep historic breakouts that our resulting data corroborates. Compared to per year league averages of efficiency, these high performing players broke out even if they had higher efficiency rating, than league averages, from the start. Tony Parker started out with an efficiency rating of 140, which far higher than league averages that sit between 100 and 120, and still showed a personal breakout that lead to peak performance during his first 6 years in the league according to our rating algorithm. However, this quick improvement from the start also stems from the fact that Parker played in the Euro league before entering the NBA, but this still does not take away from Parker's peak occurring about 5 years after he started playing basketball professionally, which is also the mark of the beginning of his championship runs with the Spurs.\n",
    "\n",
    "In comparison to those great players, some current players such as, Lou Williams, Eric Gordon, and John Wall can be analyzed by looking at their stats for the time they have been in the league. They have gathered enough playing time, over five seasons at least, to show their progression throughout the years. For instance, Lou Williams started the league slowly but progressed to rise above the league average ER and has been steadily playing at that level in the past five years. Another example is his current teammate, Eric Gordon, who entered the league in 2008. The regression model seen is opposite to Lou Williams, as Eric Gordon's rookie years were about 20 points above the league average for efficiency rating (ER), but the later years show otherwise. His level of stellar play does not translate in his next four years of his career, which his ER is similar to the league average. A great comparison of the model to show how a superstar is on the rise is seen with John Wall. Given that his data only ranges for about six years, the quadratic regression models shows he is soon to be, or currently playing in his prime by having spectacular numbers that are way above the league average ER. \n",
    "\n",
    "The resultant data gathered and displayed on our linear, cubic, and quadratic regression lines shows a bell-shaped curve of efficiency rating throughout the player's NBA career. Our quadratic regression displays break-out and drop off trends of players as they age in the league. The regression of All-Star guards Kobe Bryant and Steve Nash shows an even more distinct regression curve that has a visibly strong break-out, based on our efficiency algorithm, and prolonged prime years of play. The qualitative data of historic breakout in these All-Star players, was matched by our quantitative data research shown in the regression curve. Each player that was analyzed showed some increase in efficiency rating upon onset of their first NBA season. Each player that was analyzed also showed some peak performance that fell between 4 and 10 years. This supports our hypothesis stating observable player breakout after 4 years.\n",
    "\n",
    "In addition, we matched this with regressions of other young players that have been in the league less than 5 years to be compared to the first 5 years of Kobe and Nash. Lou Williams showed a definite breakout over a period of six years, with very steep initial spike in performance in his first two years of play. Regression analysis shows an early breakout, relative to average players in the league, for Lou after just his first two years.\n"
   ]
  },
  {
   "cell_type": "markdown",
   "metadata": {
    "collapsed": false
   },
   "source": [
    "# Conclusion/Discussion"
   ]
  },
  {
   "cell_type": "markdown",
   "metadata": {
    "collapsed": false
   },
   "source": [
    "Our data was obtained from an official NBA source that provides us with a high confidence in data accuracy. Though we were successfully able to show a steep climb in NBA rookies early on, we also recognize that our efficiency rating algorithm has confounds implicit to it's design. Our research frame, that is based on famously high performing NBA guards, may have minimal bias in player choice of Kobe Bryant and Steve Nash. However, they are indisputably high performing athletes that are historically attributed with steep rookie breakout performance so we chose those players specifically. The algorithm is based on accurate player data but there is much valid argument for which statistics are most important in performance. Our research design focused on evenly distributing weight among the positive player statistic values.\n",
    "\n",
    "Some errors we ran into in our project were the multiple datasets, each with different statistics that are calculated differently. Thus we resorted to using the most useful dataset, 'NBAPlayerPPG.csv', which has all the statistics to calculate a simple model. A confound that can be said about our calculations, were using the league averages for each category when it does not account for the outliers which may be players that do not put a lot of stats up versus superstars that exceed those averages by a lot. Comparing the rookies was unfeasible because of the multiple dataset issue, but using linear regression models on Kobe Bryant, Tony Parker, and Steve Nash demonstrated to us the breakout in their career when our calculated efficiency rating (ER) exceeded the league average ER by far. Being able to visualize the progression of their careers gives us an understanding of how a player develops their game, and also a way to implement a predictive model for rookies and how their beginning years compared to very accomplished players. Further improvements to this project would include the use of NBA Rookie Data as intended in the proposal, to project their careers based on the performance in their first five years in the league.\n",
    "\n",
    "Overall, our research data came from highly accurate sources, and all associated bias in design was minimal. We are happy to see regression data that matches our original hypothesis of a 4-6 year rookie breakout period. We also believe that current rookies will see a predictable breakout period in efficiency rating despite the many ways the NBA has changed in the last two decades. It is interesting to note that league average for our efficiency rating has shown a steady decrease since 1990. This may be attributable to a change in specific player statistic focus over the past two decades. Different statistics, such as those that track three point shooting, may have disproportionate weights in efficiency rating. Certain statistics may have more training focus in recent years, that may skew efficiency rating for those individual data variable types."
   ]
  },
  {
   "cell_type": "code",
   "execution_count": 0,
   "metadata": {
    "collapsed": false
   },
   "outputs": [
   ],
   "source": [
   ]
  },
  {
   "cell_type": "code",
   "execution_count": 0,
   "metadata": {
    "collapsed": false
   },
   "outputs": [
   ],
   "source": [
   ]
  }
 ],
 "metadata": {
  "kernelspec": {
   "display_name": "T - Python 3 (Ubuntu Linux)",
   "language": "python",
   "name": "python3"
  },
  "language_info": {
   "codemirror_mode": {
    "name": "ipython",
    "version": 3
   },
   "file_extension": ".py",
   "mimetype": "text/x-python",
   "name": "python",
   "nbconvert_exporter": "python",
   "pygments_lexer": "ipython3",
   "version": "3.4.3+"
  }
 },
 "nbformat": 4,
 "nbformat_minor": 0
}